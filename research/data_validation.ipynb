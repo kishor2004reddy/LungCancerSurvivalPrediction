{
 "cells": [
  {
   "cell_type": "code",
   "execution_count": null,
   "id": "45f6ae25",
   "metadata": {},
   "outputs": [],
   "source": [
    "import os"
   ]
  },
  {
   "cell_type": "code",
   "execution_count": 2,
   "id": "d3cb4ff8",
   "metadata": {},
   "outputs": [
    {
     "data": {
      "text/plain": [
       "'C:\\\\Users\\\\kisho\\\\Desktop\\\\PodcastListeningTimePrediction\\\\PodcastListeningTimePrediction'"
      ]
     },
     "execution_count": 2,
     "metadata": {},
     "output_type": "execute_result"
    }
   ],
   "source": [
    "%pwd"
   ]
  },
  {
   "cell_type": "code",
   "execution_count": 3,
   "id": "1a402c44",
   "metadata": {},
   "outputs": [],
   "source": [
    "from dataclasses import dataclass\n",
    "from pathlib import Path\n",
    "\n",
    "@dataclass(frozen=True)\n",
    "class DataValidationConfig:\n",
    "    root_dir: Path \n",
    "    unzip_data_path: Path\n",
    "    schema_file_path: Path\n",
    "    report_file_path: Path\n"
   ]
  },
  {
   "cell_type": "code",
   "execution_count": 4,
   "id": "ea9e073e",
   "metadata": {},
   "outputs": [],
   "source": [
    "from PodcastListeningTimePrediction.constants import *\n",
    "from PodcastListeningTimePrediction.utils.common import read_yaml, create_directories\n",
    "\n",
    "class ConfigurationManager:\n",
    "    def __init__(\n",
    "            self,\n",
    "            config_file_path=CONFIG_FILE_PATH,\n",
    "            schema_file_path=SCHEMA_FILE_PATH,\n",
    "            params_file_path=PARAMS_FILE_PATH):\n",
    "        self.config = read_yaml(config_file_path)\n",
    "        self.schema = read_yaml(schema_file_path)\n",
    "        self.params = read_yaml(params_file_path)\n",
    "    \n",
    "    def get_data_validation_config(self) -> DataValidationConfig:\n",
    "        \n",
    "        config = self.config.data_validation\n",
    "\n",
    "        create_directories([config.root_dir], verbose=True)\n",
    "\n",
    "        data_validation_config = DataValidationConfig(\n",
    "            root_dir=Path(config.root_dir),\n",
    "            unzip_data_path=Path(config.unzip_data_path),\n",
    "            schema_file_path=Path(config.schema_file_path),\n",
    "            report_file_path=Path(config.report_file_path)\n",
    "        )\n",
    "        return data_validation_config\n"
   ]
  },
  {
   "cell_type": "code",
   "execution_count": 5,
   "id": "46c79534",
   "metadata": {},
   "outputs": [
    {
     "name": "stdout",
     "output_type": "stream",
     "text": [
      "[2025-07-22 18:56:36,137] - INFO:  NumExpr defaulting to 4 threads.\n"
     ]
    }
   ],
   "source": [
    "import pandas as pd\n",
    "from PodcastListeningTimePrediction.utils.common import write_yaml, read_yaml\n",
    "from PodcastListeningTimePrediction import logger\n",
    "\n",
    "class DataValidation:\n",
    "    def __init__(self, config: DataValidationConfig):\n",
    "        self.config = config\n",
    "\n",
    "    def validate_data(self) -> bool:\n",
    "        try:\n",
    "            schema = read_yaml(self.config.schema_file_path)\n",
    "            schema_cols = schema.Columns\n",
    "\n",
    "            df = pd.read_csv(self.config.unzip_data_path)\n",
    "            columns = df.columns.tolist()\n",
    "            missing_columns = [col for col in schema_cols if col not in columns]\n",
    "            report = {\"data_validation_status\": None}\n",
    "\n",
    "            if missing_columns:\n",
    "                report[\"data_validation_status\"] = False\n",
    "                report[\"missing_columns\"] = missing_columns\n",
    "                write_yaml(self.config.report_file_path, report)\n",
    "                logger.error(f\"{missing_columns} columns are missing in the data\")\n",
    "                return False\n",
    "\n",
    "            # Data type validation\n",
    "            wrong_types = []\n",
    "            for column in schema_cols:\n",
    "                expected_dtype = schema_cols[column]\n",
    "                actual_dtype = str(df[column].dtype)\n",
    "                if expected_dtype not in actual_dtype:\n",
    "                    wrong_types.append({column: {\"expected\": expected_dtype, \"actual\": actual_dtype}})\n",
    "            if wrong_types:\n",
    "                report[\"data_validation_status\"] = False\n",
    "                report[\"wrong_types\"] = wrong_types\n",
    "                write_yaml(self.config.report_file_path, report)\n",
    "                logger.error(f\"Wrong data types: {wrong_types}\")\n",
    "                return False\n",
    "\n",
    "            report[\"data_validation_status\"] = True\n",
    "            write_yaml(self.config.report_file_path, report)\n",
    "            logger.info(\"Data validation passed.\")\n",
    "            return True\n",
    "\n",
    "        except Exception as e:\n",
    "            logger.error(f\"{e}\")\n",
    "            write_yaml(self.config.report_file_path, {\"data_validation_status\": False, \"error\": str(e)})\n",
    "            raise e\n"
   ]
  },
  {
   "cell_type": "code",
   "execution_count": 7,
   "id": "3f582ef6",
   "metadata": {},
   "outputs": [
    {
     "name": "stdout",
     "output_type": "stream",
     "text": [
      "[2025-07-22 18:57:45,129] - INFO:  YAML file config\\config.yaml loaded successfully.\n",
      "[2025-07-22 18:57:45,135] - INFO:  YAML file schema.yaml loaded successfully.\n",
      "[2025-07-22 18:57:45,145] - INFO:  YAML file params.yaml loaded successfully.\n",
      "[2025-07-22 18:57:45,149] - INFO:  Created directory: artifacts/data_validation\n",
      "[2025-07-22 18:57:45,157] - INFO:  YAML file schema.yaml loaded successfully.\n"
     ]
    },
    {
     "name": "stdout",
     "output_type": "stream",
     "text": [
      "[2025-07-22 18:57:45,348] - INFO:  YAML file saved at artifacts\\data_validation\\report.yaml\n",
      "[2025-07-22 18:57:45,350] - INFO:  Data validation passed.\n"
     ]
    }
   ],
   "source": [
    "try:\n",
    "    config_manager = ConfigurationManager()\n",
    "    data_validation_config = config_manager.get_data_validation_config()\n",
    "    data_validation = DataValidation(config=data_validation_config)\n",
    "    data_validation.validate_data()\n",
    "except Exception as e:\n",
    "    logger.error(f\"Data validation failed: {e}\")\n",
    "    raise e\n"
   ]
  },
  {
   "cell_type": "code",
   "execution_count": null,
   "id": "827c408d",
   "metadata": {},
   "outputs": [],
   "source": []
  }
 ],
 "metadata": {
  "kernelspec": {
   "display_name": "Python (podcast)",
   "language": "python",
   "name": "podcast"
  },
  "language_info": {
   "codemirror_mode": {
    "name": "ipython",
    "version": 3
   },
   "file_extension": ".py",
   "mimetype": "text/x-python",
   "name": "python",
   "nbconvert_exporter": "python",
   "pygments_lexer": "ipython3",
   "version": "3.13.5"
  }
 },
 "nbformat": 4,
 "nbformat_minor": 5
}
