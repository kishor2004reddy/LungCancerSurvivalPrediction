{
 "cells": [
  {
   "cell_type": "code",
   "execution_count": 1,
   "id": "35e0ded5",
   "metadata": {},
   "outputs": [],
   "source": [
    "import pandas as pd\n",
    "import numpy as np"
   ]
  },
  {
   "cell_type": "code",
   "execution_count": 2,
   "id": "8caf13e4",
   "metadata": {},
   "outputs": [],
   "source": [
    "df = pd.read_csv(\"artifacts\\data_ingestion\\podcast_dataset.csv\")"
   ]
  },
  {
   "cell_type": "code",
   "execution_count": 3,
   "id": "5278d049",
   "metadata": {},
   "outputs": [
    {
     "data": {
      "text/html": [
       "<div>\n",
       "<style scoped>\n",
       "    .dataframe tbody tr th:only-of-type {\n",
       "        vertical-align: middle;\n",
       "    }\n",
       "\n",
       "    .dataframe tbody tr th {\n",
       "        vertical-align: top;\n",
       "    }\n",
       "\n",
       "    .dataframe thead th {\n",
       "        text-align: right;\n",
       "    }\n",
       "</style>\n",
       "<table border=\"1\" class=\"dataframe\">\n",
       "  <thead>\n",
       "    <tr style=\"text-align: right;\">\n",
       "      <th></th>\n",
       "      <th>Podcast_Name</th>\n",
       "      <th>Episode_Title</th>\n",
       "      <th>Episode_Length_minutes</th>\n",
       "      <th>Genre</th>\n",
       "      <th>Host_Popularity_percentage</th>\n",
       "      <th>Publication_Day</th>\n",
       "      <th>Publication_Time</th>\n",
       "      <th>Guest_Popularity_percentage</th>\n",
       "      <th>Number_of_Ads</th>\n",
       "      <th>Episode_Sentiment</th>\n",
       "      <th>Listening_Time_minutes</th>\n",
       "    </tr>\n",
       "  </thead>\n",
       "  <tbody>\n",
       "    <tr>\n",
       "      <th>0</th>\n",
       "      <td>Healthy Living</td>\n",
       "      <td>Episode 77</td>\n",
       "      <td>99.25</td>\n",
       "      <td>Health</td>\n",
       "      <td>21.37</td>\n",
       "      <td>Thursday</td>\n",
       "      <td>Night</td>\n",
       "      <td>70.22</td>\n",
       "      <td>3</td>\n",
       "      <td>Positive</td>\n",
       "      <td>55.158695</td>\n",
       "    </tr>\n",
       "    <tr>\n",
       "      <th>1</th>\n",
       "      <td>Mystery Matters</td>\n",
       "      <td>Episode 6</td>\n",
       "      <td>19.43</td>\n",
       "      <td>True Crime</td>\n",
       "      <td>47.19</td>\n",
       "      <td>Friday</td>\n",
       "      <td>Evening</td>\n",
       "      <td>75.15</td>\n",
       "      <td>1</td>\n",
       "      <td>Neutral</td>\n",
       "      <td>7.686559</td>\n",
       "    </tr>\n",
       "    <tr>\n",
       "      <th>2</th>\n",
       "      <td>Current Affairs</td>\n",
       "      <td>Episode 1</td>\n",
       "      <td>117.03</td>\n",
       "      <td>News</td>\n",
       "      <td>96.33</td>\n",
       "      <td>Sunday</td>\n",
       "      <td>Night</td>\n",
       "      <td>57.95</td>\n",
       "      <td>3</td>\n",
       "      <td>Neutral</td>\n",
       "      <td>110.064645</td>\n",
       "    </tr>\n",
       "    <tr>\n",
       "      <th>3</th>\n",
       "      <td>Mystery Matters</td>\n",
       "      <td>Episode 38</td>\n",
       "      <td>16.97</td>\n",
       "      <td>True Crime</td>\n",
       "      <td>25.73</td>\n",
       "      <td>Monday</td>\n",
       "      <td>Night</td>\n",
       "      <td>24.19</td>\n",
       "      <td>0</td>\n",
       "      <td>Positive</td>\n",
       "      <td>12.000380</td>\n",
       "    </tr>\n",
       "    <tr>\n",
       "      <th>4</th>\n",
       "      <td>Humor Hub</td>\n",
       "      <td>Episode 73</td>\n",
       "      <td>83.48</td>\n",
       "      <td>Comedy</td>\n",
       "      <td>76.69</td>\n",
       "      <td>Tuesday</td>\n",
       "      <td>Afternoon</td>\n",
       "      <td>42.31</td>\n",
       "      <td>3</td>\n",
       "      <td>Positive</td>\n",
       "      <td>NaN</td>\n",
       "    </tr>\n",
       "  </tbody>\n",
       "</table>\n",
       "</div>"
      ],
      "text/plain": [
       "      Podcast_Name Episode_Title  Episode_Length_minutes       Genre  \\\n",
       "0   Healthy Living    Episode 77                   99.25      Health   \n",
       "1  Mystery Matters     Episode 6                   19.43  True Crime   \n",
       "2  Current Affairs     Episode 1                  117.03        News   \n",
       "3  Mystery Matters    Episode 38                   16.97  True Crime   \n",
       "4        Humor Hub    Episode 73                   83.48      Comedy   \n",
       "\n",
       "   Host_Popularity_percentage Publication_Day Publication_Time  \\\n",
       "0                       21.37        Thursday            Night   \n",
       "1                       47.19          Friday          Evening   \n",
       "2                       96.33          Sunday            Night   \n",
       "3                       25.73          Monday            Night   \n",
       "4                       76.69         Tuesday        Afternoon   \n",
       "\n",
       "   Guest_Popularity_percentage  Number_of_Ads Episode_Sentiment  \\\n",
       "0                        70.22              3          Positive   \n",
       "1                        75.15              1           Neutral   \n",
       "2                        57.95              3           Neutral   \n",
       "3                        24.19              0          Positive   \n",
       "4                        42.31              3          Positive   \n",
       "\n",
       "   Listening_Time_minutes  \n",
       "0               55.158695  \n",
       "1                7.686559  \n",
       "2              110.064645  \n",
       "3               12.000380  \n",
       "4                     NaN  "
      ]
     },
     "execution_count": 3,
     "metadata": {},
     "output_type": "execute_result"
    }
   ],
   "source": [
    "df.head()"
   ]
  },
  {
   "cell_type": "code",
   "execution_count": 4,
   "id": "12980ec4",
   "metadata": {},
   "outputs": [
    {
     "data": {
      "text/plain": [
       "(52500, 11)"
      ]
     },
     "execution_count": 4,
     "metadata": {},
     "output_type": "execute_result"
    }
   ],
   "source": [
    "df.shape"
   ]
  },
  {
   "cell_type": "code",
   "execution_count": 5,
   "id": "9829cb4c",
   "metadata": {},
   "outputs": [
    {
     "data": {
      "text/plain": [
       "Podcast_Name                    object\n",
       "Episode_Title                   object\n",
       "Episode_Length_minutes         float64\n",
       "Genre                           object\n",
       "Host_Popularity_percentage     float64\n",
       "Publication_Day                 object\n",
       "Publication_Time                object\n",
       "Guest_Popularity_percentage    float64\n",
       "Number_of_Ads                    int64\n",
       "Episode_Sentiment               object\n",
       "Listening_Time_minutes         float64\n",
       "dtype: object"
      ]
     },
     "execution_count": 5,
     "metadata": {},
     "output_type": "execute_result"
    }
   ],
   "source": [
    "df.dtypes"
   ]
  },
  {
   "cell_type": "code",
   "execution_count": 8,
   "id": "79162647",
   "metadata": {},
   "outputs": [
    {
     "data": {
      "text/plain": [
       "True"
      ]
     },
     "execution_count": 8,
     "metadata": {},
     "output_type": "execute_result"
    }
   ],
   "source": [
    "df[\"age\"].dtype == \"float64\""
   ]
  },
  {
   "cell_type": "code",
   "execution_count": null,
   "id": "99fb8ada",
   "metadata": {},
   "outputs": [],
   "source": []
  }
 ],
 "metadata": {
  "kernelspec": {
   "display_name": "Python (podcast)",
   "language": "python",
   "name": "podcast"
  },
  "language_info": {
   "codemirror_mode": {
    "name": "ipython",
    "version": 3
   },
   "file_extension": ".py",
   "mimetype": "text/x-python",
   "name": "python",
   "nbconvert_exporter": "python",
   "pygments_lexer": "ipython3",
   "version": "3.13.5"
  }
 },
 "nbformat": 4,
 "nbformat_minor": 5
}
