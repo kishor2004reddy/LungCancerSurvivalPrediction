{
 "cells": [
  {
   "cell_type": "code",
   "execution_count": 1,
   "id": "fd871cbe",
   "metadata": {},
   "outputs": [],
   "source": [
    "import os"
   ]
  },
  {
   "cell_type": "code",
   "execution_count": 2,
   "id": "bb47ab95",
   "metadata": {},
   "outputs": [
    {
     "data": {
      "text/plain": [
       "'C:\\\\Users\\\\kisho\\\\Desktop\\\\LungCancerSurvivalPrediction'"
      ]
     },
     "execution_count": 2,
     "metadata": {},
     "output_type": "execute_result"
    }
   ],
   "source": [
    "os.getcwd()"
   ]
  },
  {
   "cell_type": "code",
   "execution_count": 3,
   "id": "2e9e1fe6",
   "metadata": {},
   "outputs": [],
   "source": [
    "os.chdir(\"../\")"
   ]
  },
  {
   "cell_type": "code",
   "execution_count": 2,
   "id": "e436aa50-1184-42b9-9cf3-5b2544bbfae7",
   "metadata": {},
   "outputs": [
    {
     "data": {
      "text/plain": [
       "'C:\\\\Users\\\\kisho\\\\Desktop\\\\LungCancerSurvivalPrediction'"
      ]
     },
     "execution_count": 2,
     "metadata": {},
     "output_type": "execute_result"
    }
   ],
   "source": [
    "%pwd"
   ]
  },
  {
   "cell_type": "code",
   "execution_count": 3,
   "id": "404d3db8-d51b-4ce4-b6f2-690def43edec",
   "metadata": {},
   "outputs": [],
   "source": [
    "from dataclasses import dataclass\n",
    "from pathlib import Path\n",
    "\n",
    "@dataclass(frozen=True)\n",
    "class DataIngestionConfig:\n",
    "    root_dir: Path\n",
    "    zip_file_path: Path\n",
    "    unzip_dir: Path"
   ]
  },
  {
   "cell_type": "code",
   "execution_count": 4,
   "id": "8214eb1d-3c13-4a05-bbc9-cbb49847ac04",
   "metadata": {},
   "outputs": [],
   "source": [
    "from LungCancerSurvivalPrediction.constants import *\n",
    "from LungCancerSurvivalPrediction.utils.common import read_yaml, create_directories\n",
    "\n",
    "\n",
    "class ConfigurationManager:\n",
    "    def __init__(\n",
    "            self,\n",
    "            config_file_path=CONFIG_FILE_PATH,\n",
    "            schema_file_path=SCHEMA_FILE_PATH,\n",
    "            params_file_path=PARAMS_FILE_PATH):\n",
    "        self.config = read_yaml(config_file_path)\n",
    "        self.schema = read_yaml(schema_file_path)\n",
    "        self.params = read_yaml(params_file_path)\n",
    "\n",
    "    def get_data_ingestion_config(self) -> DataIngestionConfig:\n",
    "        root_dir = self.config.data_ingestion.root_dir\n",
    "        zip_file_path = self.config.data_ingestion.zip_file_path\n",
    "        unzip_dir = self.config.data_ingestion.unzip_dir\n",
    "\n",
    "        create_directories([Path(root_dir)])\n",
    "\n",
    "        data_ingestion_config = DataIngestionConfig(\n",
    "            root_dir=Path(root_dir),\n",
    "            zip_file_path=Path(zip_file_path),\n",
    "            unzip_dir=Path(unzip_dir)\n",
    "        )\n",
    "        return data_ingestion_config\n"
   ]
  },
  {
   "cell_type": "code",
   "execution_count": 6,
   "id": "a2546c45",
   "metadata": {},
   "outputs": [],
   "source": [
    "from LungCancerSurvivalPrediction import logger\n",
    "from zipfile import ZipFile\n",
    "\n",
    "class DataIngestion:\n",
    "    def __init__(self, config: DataIngestionConfig):\n",
    "        self.config = config\n",
    "    \n",
    "    def extract_zip(self) -> None:\n",
    "        \"\"\"\n",
    "        zip_file_path: str\n",
    "        Extracts the zip file into the data directory\n",
    "        Function returns None\n",
    "        \"\"\"\n",
    "        unzip_path = self.config.unzip_dir\n",
    "        with ZipFile(self.config.zip_file_path, 'r') as zip_ref:\n",
    "            zip_ref.extractall(unzip_path)  \n",
    "        logger.info(f\"Data unzipped to {self.config.unzip_dir}\")"
   ]
  },
  {
   "cell_type": "code",
   "execution_count": 7,
   "id": "1e2ae723",
   "metadata": {},
   "outputs": [
    {
     "name": "stdout",
     "output_type": "stream",
     "text": [
      "[2025-07-19 21:28:25,059] - INFO:  YAML file config\\config.yaml loaded successfully.\n",
      "[2025-07-19 21:28:25,064] - INFO:  YAML file schema.yaml loaded successfully.\n",
      "[2025-07-19 21:28:25,068] - INFO:  YAML file params.yaml loaded successfully.\n",
      "[2025-07-19 21:28:25,073] - INFO:  Created directory: artifacts\\data_ingestion\n",
      "[2025-07-19 21:28:26,856] - INFO:  Data unzipped to artifacts\\data_ingestion\n"
     ]
    }
   ],
   "source": [
    "try:\n",
    "    config = ConfigurationManager()\n",
    "    data_ingestion_config = config.get_data_ingestion_config()\n",
    "    data_ingestion = DataIngestion(config=data_ingestion_config)\n",
    "    data_ingestion.extract_zip()\n",
    "except Exception as e:\n",
    "    logger.exception(f\"An error occurred during data ingestion: {e}\")\n",
    "    raise e"
   ]
  },
  {
   "cell_type": "code",
   "execution_count": null,
   "id": "7e1414b3",
   "metadata": {},
   "outputs": [],
   "source": []
  }
 ],
 "metadata": {
  "kernelspec": {
   "display_name": "Python LungCancer",
   "language": "python",
   "name": "your_env_name"
  }
 },
 "nbformat": 4,
 "nbformat_minor": 5
}
